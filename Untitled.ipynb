{
 "cells": [
  {
   "cell_type": "code",
   "execution_count": 61,
   "id": "6a85ba90-71f7-4a95-a45c-fe532032ce49",
   "metadata": {},
   "outputs": [],
   "source": [
    "import numpy as np\n",
    "import pandas as pd"
   ]
  },
  {
   "cell_type": "code",
   "execution_count": null,
   "id": "e1c2edd3-26f9-4c90-9c49-13607853214d",
   "metadata": {},
   "outputs": [],
   "source": [
    "def fill_rgb_array(c):\n",
    "  \"\"\"Fills the whole array having each row a valid RGB color representation.\"\"\"\n",
    "  r = np.random.random(c.shape[0])\n",
    "  g = np.random.random(c.shape[0])\n",
    "  b = np.random.random(c.shape[0])\n",
    "  c[:, 0] = r\n",
    "  c[:, 1] = g\n",
    "  c[:, 2] = b\n",
    "  return c\n",
    "\n",
    "if __name__ == \"__main__\":\n",
    "  c = np.empty((10, 3), dtype='float32')\n",
    "  c = fill_rgb_array(c)\n",
    "  print(c)"
   ]
  },
  {
   "cell_type": "code",
   "execution_count": 6,
   "id": "e637b250-5687-45c2-8dca-c57a55812e0e",
   "metadata": {},
   "outputs": [
    {
     "name": "stdout",
     "output_type": "stream",
     "text": [
      "[(0.3578291825013986, 0.007571793802271465, 0.192385878813784), (0.7787703103287045, 0.7030623814370615, 0.8125413030468526), (0.2453853355762743, 0.6197664993377305, 0.06431179679858434), (0.6925465413623935, 0.1241542708547424, 0.283001006641064), (0.6510037970237562, 0.48968319489523904, 0.35782590674658077), (0.7594400052259569, 0.549002453326262, 0.34724153955895476), (0.0674805391789789, 0.021517650755203288, 0.24020371369519689), (0.942102798618181, 0.582357922454581, 0.19318771243782518), (0.0798433635887581, 0.38232406186959644, 0.7825234779494287), (0.09618479045431261, 0.3922114108736262, 0.5642260941293039)]\n"
     ]
    }
   ],
   "source": [
    "import random\n",
    "\n",
    "def generate_rgb_colors(n):\n",
    "  \"\"\"Generates a fixed number n of different RGB color representations.\"\"\"\n",
    "  colors = []\n",
    "  for _ in range(n):\n",
    "    r = random.random()\n",
    "    g = random.random()\n",
    "    b = random.random()\n",
    "    colors.append((r, g, b))\n",
    "  return colors\n",
    "\n",
    "if __name__ == \"__main__\":\n",
    "  colors = generate_rgb_colors(10)\n",
    "  print(colors)"
   ]
  },
  {
   "cell_type": "code",
   "execution_count": 38,
   "id": "5bf3e9b4-31df-4fae-8756-306426ff6ae4",
   "metadata": {},
   "outputs": [
    {
     "name": "stdout",
     "output_type": "stream",
     "text": [
      "64 64\n",
      "[0. 1. 2. 3. 2. 1. 2. 3. 4. 3. 2. 3. 6. 5. 4. 3. 1. 2. 3. 4. 1. 0. 1. 2.\n",
      " 3. 2. 1. 2. 5. 4. 3. 2. 2. 3. 4. 5. 2. 1. 2. 3. 2. 1. 0. 1. 4. 3. 2. 1.\n",
      " 3. 4. 5. 6. 3. 2. 3. 4. 3. 2. 1. 2. 3. 2. 1. 0.]\n",
      "6.0 [0. 3. 0.]\n",
      "6.0 [3. 0. 3.]\n",
      "5.0 [1. 3. 0.]\n",
      "5.0 [2. 0. 3.]\n",
      "5.0 [3. 0. 2.]\n",
      "5.0 [0. 3. 1.]\n",
      "4.0 [0. 3. 2.]\n",
      "4.0 [3. 0. 1.]\n",
      "4.0 [1. 0. 3.]\n",
      "4.0 [3. 1. 3.]\n",
      "4.0 [2. 0. 2.]\n",
      "4.0 [0. 2. 0.]\n",
      "4.0 [1. 3. 1.]\n",
      "4.0 [2. 3. 0.]\n",
      "3.0 [1. 0. 2.]\n",
      "3.0 [0. 0. 3.]\n",
      "3.0 [1. 2. 0.]\n",
      "3.0 [2. 1. 3.]\n",
      "3.0 [0. 3. 3.]\n",
      "3.0 [1. 3. 2.]\n",
      "3.0 [2. 0. 1.]\n",
      "3.0 [0. 2. 3.]\n",
      "3.0 [3. 0. 0.]\n",
      "3.0 [3. 1. 0.]\n",
      "3.0 [3. 1. 2.]\n",
      "3.0 [3. 2. 0.]\n",
      "3.0 [0. 2. 1.]\n",
      "3.0 [0. 1. 3.]\n",
      "3.0 [3. 3. 0.]\n",
      "3.0 [2. 3. 1.]\n",
      "2.0 [1. 2. 1.]\n",
      "2.0 [1. 0. 1.]\n",
      "2.0 [0. 2. 2.]\n",
      "2.0 [0. 0. 2.]\n",
      "2.0 [1. 1. 3.]\n",
      "2.0 [0. 1. 2.]\n",
      "2.0 [1. 3. 3.]\n",
      "2.0 [0. 1. 0.]\n",
      "2.0 [2. 3. 2.]\n",
      "2.0 [2. 0. 0.]\n",
      "2.0 [3. 3. 1.]\n",
      "2.0 [2. 1. 0.]\n",
      "2.0 [3. 2. 3.]\n",
      "2.0 [2. 1. 2.]\n",
      "2.0 [2. 2. 0.]\n",
      "2.0 [3. 2. 1.]\n",
      "2.0 [1. 2. 3.]\n",
      "2.0 [3. 1. 1.]\n",
      "1.0 [0. 1. 1.]\n",
      "1.0 [3. 2. 2.]\n",
      "1.0 [2. 3. 3.]\n",
      "1.0 [1. 2. 2.]\n",
      "1.0 [2. 2. 3.]\n",
      "1.0 [0. 0. 1.]\n",
      "1.0 [1. 0. 0.]\n",
      "1.0 [2. 1. 1.]\n",
      "1.0 [1. 1. 0.]\n",
      "1.0 [1. 1. 2.]\n",
      "1.0 [3. 3. 2.]\n",
      "1.0 [2. 2. 1.]\n",
      "0.0 [3. 3. 3.]\n",
      "0.0 [1. 1. 1.]\n",
      "0.0 [2. 2. 2.]\n",
      "0.0 [0. 0. 0.]\n"
     ]
    }
   ],
   "source": [
    "def get_tuples(c):\n",
    "    n = c.shape[0]\n",
    "    c[:, 0] = np.linspace(0.1, 0.9, n)\n",
    "    c[:, 1] = c[:, 0]\n",
    "    c[:, 2] = c[:, 0]\n",
    "    t = []\n",
    "    for i in range(0, n):\n",
    "        for j in range(0, n):\n",
    "            for k in range(0, n):\n",
    "                t.append((i, j, k))\n",
    "    return np.array(t, dtype='float32')\n",
    "\n",
    "def get_differences(c):\n",
    "    d1 = np.abs(c[:, 0] - c[:, 1])\n",
    "    d2 = np.abs(c[:, 1] - c[:, 2])\n",
    "    return d1 + d2\n",
    "\n",
    "\n",
    "if __name__ == \"__main__\":\n",
    "    c = np.empty((4, 3), dtype='float32')\n",
    "    t = get_tuples(c)\n",
    "    d = get_differences(t)\n",
    "    print(len(t), len(d))\n",
    "    print(d)\n",
    "    ii = np.flip(d.argsort())\n",
    "    for i in ii:\n",
    "        print(d[i], t[i])\n"
   ]
  },
  {
   "cell_type": "code",
   "execution_count": 19,
   "id": "810bdbc7-62ca-4ea3-a41f-8360ca602363",
   "metadata": {},
   "outputs": [
    {
     "name": "stdout",
     "output_type": "stream",
     "text": [
      "4\n",
      "[(0.0, 0.0, 0.0), (0.3333333333333333, 0.3333333333333333, 0.3333333333333333), (0.6666666666666666, 0.6666666666666666, 0.6666666666666666), (1.0, 1.0, 1.0)]\n"
     ]
    }
   ],
   "source": [
    "def get_tuples(a):\n",
    "  \"\"\"Returns a list of unique tuples having each tuple an element of column 1 in the first position,\n",
    "  an element of column 2 in the second position and an element of column 3 in the third position.\"\"\"\n",
    "\n",
    "  tuples = []\n",
    "  for i in range(a.shape[0]):\n",
    "    tuple = (a[i, 0], a[i, 1], a[i, 2])\n",
    "    if tuple not in tuples:\n",
    "      tuples.append(tuple)\n",
    "  return tuples\n",
    "\n",
    "a = np.empty((4, 3))\n",
    "a[:, 0] = np.linspace(0, 1, a.shape[0])\n",
    "a[:, 1] = a[:, 0]\n",
    "a[:, 2] = a[:, 0]\n",
    "\n",
    "tuples = get_tuples(a)\n",
    "\n",
    "print(len(tuples))\n",
    "print(tuples)"
   ]
  },
  {
   "cell_type": "code",
   "execution_count": 39,
   "id": "e7f58fd2-5d44-40de-b192-b1a321ac85e5",
   "metadata": {},
   "outputs": [
    {
     "data": {
      "image/png": "[encoded data removed]",
      "text/plain": [
       "<Figure size 640x480 with 1 Axes>"
      ]
     },
     "metadata": {},
     "output_type": "display_data"
    }
   ],
   "source": [
    "import matplotlib.pyplot as plt\n",
    "import matplotlib.colors as mcolors\n",
    "\n",
    "def save_square(color_name, filename):\n",
    "  \"\"\"Saves a square filled with the given color name to a PNG file.\n",
    "\n",
    "  Args:\n",
    "    color_name: The name of the color to fill the square with.\n",
    "    filename: The path to the PNG file to save.\n",
    "  \"\"\"\n",
    "\n",
    "  fig = plt.figure()\n",
    "  ax = fig.add_subplot(111)\n",
    "  ax.set_facecolor('white')\n",
    "  square = plt.Rectangle((0, 0), 1, 1, color=color_name)\n",
    "  ax.add_patch(square)\n",
    "  plt.savefig(filename, format='png')\n",
    "\n",
    "if __name__ == '__main__':\n",
    "  color_name = 'red'\n",
    "  filename = 'square.png'\n",
    "  save_square(color_name, filename)"
   ]
  },
  {
   "cell_type": "code",
   "execution_count": 40,
   "id": "404ad1e4-c539-430f-bdec-6bedc9d71093",
   "metadata": {},
   "outputs": [
    {
     "name": "stdout",
     "output_type": "stream",
     "text": [
      "tab:red\n",
      "tab:blue\n",
      "tab:green\n"
     ]
    }
   ],
   "source": [
    "colores = ['tab:red', 'tab:blue', 'tab:green']\n",
    "for c1 in colores:\n",
    "    print(c1)"
   ]
  },
  {
   "cell_type": "code",
   "execution_count": 63,
   "id": "5b91234c-630f-4b43-9ce7-0f38848e5d8e",
   "metadata": {},
   "outputs": [
    {
     "name": "stdout",
     "output_type": "stream",
     "text": [
      "   c0  c1  c2\n",
      "0  L1  B1   0\n",
      "1  L1  B1   0\n",
      "2  L2  B2   2\n",
      "3  L2  B1   3\n",
      "4  L3  B1   4\n",
      "5  L3  B1   4\n"
     ]
    }
   ],
   "source": [
    "df = pd.DataFrame({'c0': ['L1', 'L1', 'L2', 'L2', 'L3', 'L3'],\n",
    "                   'c1': ['B1', 'B1', 'B2', 'B1', 'B1', 'B1'],\n",
    "                   'c2': [1, 1, 1, 1, 1, 1]})\n",
    "\n",
    "unique_pairs = df[['c0', 'c1']].drop_duplicates()\n",
    "\n",
    "for index, row in unique_pairs.iterrows():\n",
    "    mask = (df['c0'] == row['c0']) & (df['c1'] == row['c1'])\n",
    "    df.loc[mask, 'c2'] = index\n",
    "\n",
    "print(df)"
   ]
  }
 ],
 "metadata": {
  "kernelspec": {
   "display_name": "Python 3 (ipykernel)",
   "language": "python",
   "name": "python3"
  },
  "language_info": {
   "codemirror_mode": {
    "name": "ipython",
    "version": 3
   },
   "file_extension": ".py",
   "mimetype": "text/x-python",
   "name": "python",
   "nbconvert_exporter": "python",
   "pygments_lexer": "ipython3",
   "version": "3.10.11"
  }
 },
 "nbformat": 4,
 "nbformat_minor": 5
}

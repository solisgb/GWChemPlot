{
 "cells": [
  {
   "cell_type": "code",
   "execution_count": 1,
   "id": "6a85ba90-71f7-4a95-a45c-fe532032ce49",
   "metadata": {},
   "outputs": [],
   "source": [
    "import numpy as np\n",
    "import pandas as pd\n"
   ]
  },
  {
   "cell_type": "code",
   "execution_count": 22,
   "id": "c274c3ba-bc73-4c4c-883b-7c04a995ed31",
   "metadata": {},
   "outputs": [
    {
     "name": "stdout",
     "output_type": "stream",
     "text": [
      "    c0  c1          c2   c3\n",
      "0  1.0   1  2018-03-10  foo\n",
      "1  2.0   2  2018-03-10  foo\n",
      "2  NaN   3  2018-03-10  foo\n",
      "\n",
      " c0    float64\n",
      "c1      int64\n",
      "c2     object\n",
      "c3     object\n",
      "dtype: object\n"
     ]
    }
   ],
   "source": [
    "df = pd.DataFrame({'c0': [1., 2, np.nan],\n",
    "                   'c1': [1, 2, 3],\n",
    "                   'c2': ['2018-03-10', '2018-03-10', '2018-03-10'],\n",
    "                   'c3': ['foo', 'foo', 'foo']})\n",
    "print(df)\n",
    "print('\\n', df.dtypes)"
   ]
  },
  {
   "cell_type": "code",
   "execution_count": 18,
   "id": "c22fae96-dfc5-4f27-93b1-182f20f12bca",
   "metadata": {},
   "outputs": [
    {
     "data": {
      "text/plain": [
       "['c2', 'c3']"
      ]
     },
     "execution_count": 18,
     "metadata": {},
     "output_type": "execute_result"
    }
   ],
   "source": [
    "[col1 for col1 in df.columns if df[col1].dtype not in ('float64', 'int64')]"
   ]
  },
  {
   "cell_type": "code",
   "execution_count": 23,
   "id": "547c7d05-510f-427a-8b57-98d5eda8d284",
   "metadata": {},
   "outputs": [
    {
     "data": {
      "text/plain": [
       "'c0'"
      ]
     },
     "execution_count": 23,
     "metadata": {},
     "output_type": "execute_result"
    }
   ],
   "source": [
    "df.columns[0]"
   ]
  },
  {
   "cell_type": "code",
   "execution_count": 21,
   "id": "2bb337ff-dc39-48d7-9b56-bb73e8e24a73",
   "metadata": {},
   "outputs": [
    {
     "data": {
      "text/plain": [
       "[30, 10, 20, 40]"
      ]
     },
     "execution_count": 21,
     "metadata": {},
     "output_type": "execute_result"
    }
   ],
   "source": [
    "def move_to_first(l1, index):\n",
    "    element = l1.pop(index)\n",
    "    l1.insert(0, element)\n",
    "    return l1\n",
    "\n",
    "l1 = [10, 20, 30, 40]\n",
    "move_to_first(l1, 2)  # Output: [30, 10, 20, 40]"
   ]
  },
  {
   "cell_type": "code",
   "execution_count": 26,
   "id": "37646397-b79e-45a1-a8ab-993b8ece3dec",
   "metadata": {},
   "outputs": [
    {
     "name": "stdout",
     "output_type": "stream",
     "text": [
      "  C0          C1         C2   C3   C4\n",
      "0  a  2003-01-03  Acumulado  5.0  NaN\n",
      "1  b  2003-01-05          2  6.0    6\n",
      "2  c  2003-01-05          3  NaN    7\n",
      "3  d  2003-01-02          4  8.0    8\n",
      "4  e  2003-01-02          5  9.0   j9\n"
     ]
    },
    {
     "data": {
      "text/html": [
       "<div>\n",
       "<style scoped>\n",
       "    .dataframe tbody tr th:only-of-type {\n",
       "        vertical-align: middle;\n",
       "    }\n",
       "\n",
       "    .dataframe tbody tr th {\n",
       "        vertical-align: top;\n",
       "    }\n",
       "\n",
       "    .dataframe thead th {\n",
       "        text-align: right;\n",
       "    }\n",
       "</style>\n",
       "<table border=\"1\" class=\"dataframe\">\n",
       "  <thead>\n",
       "    <tr style=\"text-align: right;\">\n",
       "      <th></th>\n",
       "      <th>C0</th>\n",
       "      <th>C1</th>\n",
       "      <th>C2</th>\n",
       "      <th>C3</th>\n",
       "      <th>C4</th>\n",
       "    </tr>\n",
       "  </thead>\n",
       "  <tbody>\n",
       "    <tr>\n",
       "      <th>0</th>\n",
       "      <td>a</td>\n",
       "      <td>2003-01-03</td>\n",
       "      <td>Acumulado</td>\n",
       "      <td>5.0</td>\n",
       "      <td>NaN</td>\n",
       "    </tr>\n",
       "    <tr>\n",
       "      <th>4</th>\n",
       "      <td>e</td>\n",
       "      <td>2003-01-02</td>\n",
       "      <td>5</td>\n",
       "      <td>9.0</td>\n",
       "      <td>j9</td>\n",
       "    </tr>\n",
       "  </tbody>\n",
       "</table>\n",
       "</div>"
      ],
      "text/plain": [
       "  C0          C1         C2   C3   C4\n",
       "0  a  2003-01-03  Acumulado  5.0  NaN\n",
       "4  e  2003-01-02          5  9.0   j9"
      ]
     },
     "execution_count": 26,
     "metadata": {},
     "output_type": "execute_result"
    }
   ],
   "source": [
    "import pandas as pd\n",
    "import numpy as np\n",
    "\n",
    "df = pd.DataFrame(\n",
    "{'C0': ['a', 'b', 'c', 'd', 'e'],\n",
    " 'C1': ['2003-01-03', '2003-01-05', '2003-01-05', '2003-01-02', '2003-01-02'],\n",
    " 'C2': ['Acumulado', 2, 3, 4, 5],\n",
    " 'C3': [5, 6, np.nan, 8, 9],\n",
    " 'C4': [np.nan, 6, 7, 8, 'j9']}\n",
    ")\n",
    "print(df)\n",
    "columns_to_check = ['C2', 'C3', 'C4']\n",
    "\n",
    "df[df[columns_to_check].apply(lambda row: any(isinstance(x, str) for x in row), axis=1)]\n",
    "\n"
   ]
  }
 ],
 "metadata": {
  "kernelspec": {
   "display_name": "Python 3 (ipykernel)",
   "language": "python",
   "name": "python3"
  },
  "language_info": {
   "codemirror_mode": {
    "name": "ipython",
    "version": 3
   },
   "file_extension": ".py",
   "mimetype": "text/x-python",
   "name": "python",
   "nbconvert_exporter": "python",
   "pygments_lexer": "ipython3",
   "version": "3.10.12"
  }
 },
 "nbformat": 4,
 "nbformat_minor": 5
}

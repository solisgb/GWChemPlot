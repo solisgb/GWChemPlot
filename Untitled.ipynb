{
 "cells": [
  {
   "cell_type": "code",
   "execution_count": 5,
   "id": "cec885fb-a93c-496d-acc6-bc57d2756c36",
   "metadata": {},
   "outputs": [
    {
     "name": "stdout",
     "output_type": "stream",
     "text": [
      "[[3.7212905e-01 6.4898109e-01 1.1602026e-01]\n",
      " [7.1764588e-01 3.6888996e-01 7.9547036e-01]\n",
      " [9.9226516e-01 6.5304018e-03 1.7723273e-01]\n",
      " [4.2853838e-01 7.5075716e-01 8.8051385e-01]\n",
      " [7.8462499e-01 8.8036633e-01 1.6806440e-02]\n",
      " [6.9845504e-01 8.4620106e-01 9.5533460e-01]\n",
      " [4.2242426e-01 3.9320099e-01 7.5886339e-01]\n",
      " [3.5449383e-01 3.3486387e-01 7.2802067e-01]\n",
      " [3.2825503e-01 6.5953833e-01 6.3590071e-04]\n",
      " [5.0567985e-01 8.2835352e-01 4.4870529e-02]]\n"
     ]
    }
   ],
   "source": [
    "import numpy as np\n",
    "\n",
    "def fill_rgb_array(c):\n",
    "  \"\"\"Fills the whole array having each row a valid RGB color representation.\"\"\"\n",
    "  r = np.random.random(c.shape[0])\n",
    "  g = np.random.random(c.shape[0])\n",
    "  b = np.random.random(c.shape[0])\n",
    "  c[:, 0] = r\n",
    "  c[:, 1] = g\n",
    "  c[:, 2] = b\n",
    "  return c\n",
    "\n",
    "if __name__ == \"__main__\":\n",
    "  c = np.empty((10, 3), dtype='float32')\n",
    "  c = fill_rgb_array(c)\n",
    "  print(c)"
   ]
  },
  {
   "cell_type": "code",
   "execution_count": 6,
   "id": "e637b250-5687-45c2-8dca-c57a55812e0e",
   "metadata": {},
   "outputs": [
    {
     "name": "stdout",
     "output_type": "stream",
     "text": [
      "[(0.3578291825013986, 0.007571793802271465, 0.192385878813784), (0.7787703103287045, 0.7030623814370615, 0.8125413030468526), (0.2453853355762743, 0.6197664993377305, 0.06431179679858434), (0.6925465413623935, 0.1241542708547424, 0.283001006641064), (0.6510037970237562, 0.48968319489523904, 0.35782590674658077), (0.7594400052259569, 0.549002453326262, 0.34724153955895476), (0.0674805391789789, 0.021517650755203288, 0.24020371369519689), (0.942102798618181, 0.582357922454581, 0.19318771243782518), (0.0798433635887581, 0.38232406186959644, 0.7825234779494287), (0.09618479045431261, 0.3922114108736262, 0.5642260941293039)]\n"
     ]
    }
   ],
   "source": [
    "import random\n",
    "\n",
    "def generate_rgb_colors(n):\n",
    "  \"\"\"Generates a fixed number n of different RGB color representations.\"\"\"\n",
    "  colors = []\n",
    "  for _ in range(n):\n",
    "    r = random.random()\n",
    "    g = random.random()\n",
    "    b = random.random()\n",
    "    colors.append((r, g, b))\n",
    "  return colors\n",
    "\n",
    "if __name__ == \"__main__\":\n",
    "  colors = generate_rgb_colors(10)\n",
    "  print(colors)"
   ]
  }
 ],
 "metadata": {
  "kernelspec": {
   "display_name": "Python 3 (ipykernel)",
   "language": "python",
   "name": "python3"
  },
  "language_info": {
   "codemirror_mode": {
    "name": "ipython",
    "version": 3
   },
   "file_extension": ".py",
   "mimetype": "text/x-python",
   "name": "python",
   "nbconvert_exporter": "python",
   "pygments_lexer": "ipython3",
   "version": "3.10.11"
  }
 },
 "nbformat": 4,
 "nbformat_minor": 5
}

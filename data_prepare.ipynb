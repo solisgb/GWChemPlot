{
 "cells": [
  {
   "cell_type": "markdown",
   "id": "a4f9eac5-1ce3-4f30-a735-644235509f03",
   "metadata": {},
   "source": [
    "# Preparar datos químicos: ejemplo con el formato de CH Segura\n",
    "https://www.chsegura.es/es/cuenca/redes-de-control/calidad-en-aguas-subterraneas/acceso-a-los-datos/"
   ]
  },
  {
   "cell_type": "code",
   "execution_count": 6,
   "id": "ae9c589b-1a88-427a-aaf2-0a37b1c64b1c",
   "metadata": {},
   "outputs": [],
   "source": [
    "import pandas as pd"
   ]
  },
  {
   "cell_type": "code",
   "execution_count": 10,
   "id": "e9bf9fe2-90a0-4ee9-b277-94e3a93a54e5",
   "metadata": {},
   "outputs": [
    {
     "name": "stdout",
     "output_type": "stream",
     "text": [
      "<class 'pandas.core.frame.DataFrame'>\n",
      "RangeIndex: 9612 entries, 0 to 9611\n",
      "Data columns (total 18 columns):\n",
      " #   Column          Non-Null Count  Dtype  \n",
      "---  ------          --------------  -----  \n",
      " 0   Estación        9612 non-null   object \n",
      " 1   Fecha Toma      9612 non-null   object \n",
      " 2   Cod. Parámetro  9492 non-null   object \n",
      " 3   Nom. Parámetro  9612 non-null   object \n",
      " 4   Unidades        9612 non-null   object \n",
      " 5   Valor numérico  9612 non-null   float64\n",
      " 6   Valor texto     9612 non-null   object \n",
      " 7   Coord. X        9612 non-null   int64  \n",
      " 8   Coord. Y        9612 non-null   int64  \n",
      " 9   Cod Masa        9612 non-null   float64\n",
      " 10  Nombre Masa     9612 non-null   object \n",
      " 11  Municipio       9612 non-null   object \n",
      " 12  Provincia       9612 non-null   object \n",
      " 13  UH Geo          9612 non-null   float64\n",
      " 14  UH Geo Nombre   9612 non-null   object \n",
      " 15  Acuifero        9612 non-null   object \n",
      " 16  Profundidad     5665 non-null   float64\n",
      " 17  Nombre C.A      9612 non-null   object \n",
      "dtypes: float64(4), int64(2), object(12)\n",
      "memory usage: 1.3+ MB\n"
     ]
    }
   ],
   "source": [
    "fchs = r'E:\\tmp\\bajo_guadalentin.csv'\n",
    "df = pd.read_csv(fchs)\n",
    "df.info()"
   ]
  },
  {
   "cell_type": "code",
   "execution_count": null,
   "id": "3616d994-79a1-4c38-9a80-9494f0f1e563",
   "metadata": {},
   "outputs": [],
   "source": [
    "df.rename(columns = {'Estación':'cod', 'Fecha Toma':'fecha', 'Cod. Parámetro':'param',\n",
    "                     'Nom. Parámetro':'param_name', 'Valor numérico':'x', 'Valor texto':'xstr',}, inplace = True)"
   ]
  },
  {
   "cell_type": "code",
   "execution_count": null,
   "id": "14785e42-ccba-4f1e-a76a-72cdf15bb431",
   "metadata": {},
   "outputs": [],
   "source": [
    "df[\"c0\"] = df[\"c0\"].astype('object')\n",
    "df[\"c1\"] = pd.to_datetime(df[\"c1\"], format='%d/%m/%Y')\n",
    "df[\"c2\"] = df[\"c2\"].astype('category')\n",
    "df[\"c3\"] = df[\"c3\"].astype('float32')"
   ]
  }
 ],
 "metadata": {
  "kernelspec": {
   "display_name": "Python 3 (ipykernel)",
   "language": "python",
   "name": "python3"
  },
  "language_info": {
   "codemirror_mode": {
    "name": "ipython",
    "version": 3
   },
   "file_extension": ".py",
   "mimetype": "text/x-python",
   "name": "python",
   "nbconvert_exporter": "python",
   "pygments_lexer": "ipython3",
   "version": "3.10.11"
  }
 },
 "nbformat": 4,
 "nbformat_minor": 5
}

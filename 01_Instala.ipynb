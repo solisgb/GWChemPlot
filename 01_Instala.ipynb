{
 "cells": [
  {
   "cell_type": "markdown",
   "id": "953ff636-50cf-4a33-95d9-2b3e58506571",
   "metadata": {},
   "source": [
    "# Proceso guiado para ejecutar GWChemPlot desde cero\n",
    "\n",
    "Orientado a usuarios en entorno Windows con conocimientos muy limitados o nulos del lenguaje de programación Python y la librería pandas.\n",
    "## Instalar Python y librerías requeridas\n",
    "Lo primero es instalar Python, para lo que voy a utilizar el entorno miniconda. Hay otras alternativas, como instalar directamente Python en el ordenador y luego ir instalando las versiones de las librerías requeridas. Sin embargo, el gestor de paquetes conda garantiza la compatibilidad de versiones de las librerías.\n",
    "1. Descargo miniconda desde https://conda.io/projects/conda/en/latest/user-guide/install/index.html\n",
    "2. En Windows ejecuto el instalador\n",
    "3. En Inicio de Windows voy a la carpeta miniconda (Miniconda3) y pulso en Anaconda Prompt (miniconda3)\n",
    "\n",
    "Ahora voy a crear un entorno nuevo para ejecutar GWChemPlot (una descripción completa en  \n",
    "https://conda.io/projects/conda/en/latest/user-guide/tasks/manage-environments.html pero puedes seguir sin consultar nada más)\n",
    "## Crear un environment en conda\n",
    "En la ventana que abre al pulsar sobre Anaconda Prompt (miniconda3) voy escribiendo cada una de las líneas a continuación pulsando Intro. Las líneas que empiezan por # son comentarios y no se escriben"
   ]
  },
  {
   "cell_type": "raw",
   "id": "58f2544c-0d71-47b8-af96-474ab07f42be",
   "metadata": {},
   "source": [
    "# e1 es un nombre arbitrario; si no te gusta escoge otro (mejor corto y fácil de recordar)\n",
    "conda create --name e1\n",
    "# escribe la línea a continuación y pulsa y e Intro\n",
    "proceed ([y]/n)?\n",
    "conda activate e1\n",
    "# ahora instalamos las librerías\n",
    "conda install -c conda-forge jupyterlab pandas matplotlib numpy openpyxl"
   ]
  },
  {
   "cell_type": "markdown",
   "id": "76f83c23-407f-4f29-8e05-d0c8e3375dcf",
   "metadata": {},
   "source": [
    "A continuación creamos un directorio para los ficheros específicos de GWChemPlot. Por ejemplo, con el explorador de archivos creamos un directorio 'gwp' o el nombre que prefieras, por ejemplo en el directorio 'Mis Documentos'. \n",
    "\n",
    "Ahora descargamos desde esta página de github los ficheros con extensions py, ipynb y json en el directorio recién creado 'gwp'. La descarga se puede haber realizado en un archivo zip del que habrá que extraer sus archivos.\n",
    "\n",
    "Desde la página dirección de gigthub nos movemos al directorio 'data' y descargamos los ficheros de datos de ejemplo en un directorio 'data' (u otro nombre) que creamos en algún sitio de nuestro ordenador; mejor no utilices el directorio 'gwp' para no mezclar ficheros ejecutables y los de datos.\n",
    "\n",
    "Ya estamos preparados para ejecutar la app GWChemPlot.\n",
    "\n",
    "Vuelvo a abrir el entorno miniconda, para lo que vuelvo a Inicio de Windows, carpeta miniconda (Miniconda3) y pulso en Anaconda Prompt (miniconda3)\n",
    "\n",
    "A continuación voy al directorio donde he descargado los ficheros GWChemPlot, por ejemplo "
   ]
  },
  {
   "cell_type": "raw",
   "id": "5f9437e3-1d3b-4032-8373-8d78b17cd890",
   "metadata": {},
   "source": [
    "cd C:\\Users\\mi_nombre_de_usuario\\Documents\\gwp"
   ]
  },
  {
   "cell_type": "markdown",
   "id": "1f1c1043-22f9-4bde-bbd1-7de1adef899e",
   "metadata": {},
   "source": [
    "donde 'mi_nombre_de_usuario' varía en cada ordenador y 'gwp' es el directorio que hemos creado previamente\n",
    "\n",
    "Para evitar tener que teclear 'C:\\Users\\mi_nombre_de_usuario\\Documents\\gwp', puedes copiar la dirección desde el Explorador de Windows y pegarl el contenido despues de 'cd '\n",
    "\n",
    "Pulsa Intro\n",
    "\n",
    "A continuación escribe la primera de las líneas a continuación y pulsa Intro; despuésla segunda e Intro"
   ]
  },
  {
   "cell_type": "raw",
   "id": "a22ac85f-9b88-4b0f-87d6-f087f5e289a8",
   "metadata": {},
   "source": [
    "conda activate e1\n",
    "jupyter lab"
   ]
  },
  {
   "cell_type": "markdown",
   "id": "2b7cefc9-051b-4d22-b37c-ffe33b8dd115",
   "metadata": {},
   "source": [
    "Se abre el entorno de trabajo de Jupyter Lab\n",
    "\n",
    "En la barra lateral de la izquierda asegúrate que está marcado el icono que representa una carpeta. Verás la lista de ficheros en el directorio.\n",
    "\n",
    "Ya estás a punto de poder ejecutar GWChemPlot. Se puede hacer de dos maneras."
   ]
  },
  {
   "cell_type": "markdown",
   "id": "0daf7a9b-a178-4531-bcac-0c255c510ebc",
   "metadata": {},
   "source": [
    "## Ejecución\n",
    "### Desde un fichero de tipo notebook\n",
    "Pulsa sobre el fichero 'GWChemPlor_como_se_usa.ipynb'.\n",
    "\n",
    "Te aparece un entorno similar a este con una particularidad, hay 2 tipos de celdas (bloques):\n",
    "* Celdas de texto explicativos.\n",
    "* Celdas de código ejecutable.\n",
    "\n",
    "¿Cómo puedo diferenciar los 2 tipos de celdas?\n",
    "* Por el contenido. Al leer las celdas de texto se expresa un contenido en lenguage natural y su fondo es claro. Además, en la barra de herramientas de Jupyter Lab a la derecha verás un desplegable que está marcado como Markdown.\n",
    "* Las celdas de código tienen un contenido en forma de un entorno de programación, con líneas cuya significación puede no ser inmediata sin haber leido las celdas de texto previos. En la barra de herramientas de Jupyter Lab a la derecha el desplegable está marcado como 'Code'.\n",
    "\n",
    "Las celdas de código tienen que ser ejecutadas por orden, no puede haber saltos. Para ejecutar una celda de código lo puedes hacer de 3 maneras:\n",
    "* Pulsando con el ratón el triángulo tumbado de la barra de iconos de Jupyter Lab\n",
    "* Poniéndote con el ratón encima de la celda, pulsando una vez con el botón derecho y a continacuón pulsar a la vez las teclas Ctrl e Intro.\n",
    "* Poniéndote con el ratón encima de la celda, pulsando una vez con el botón derecho y a continacuón pulsar a la vez las teclas Ctrl y Shift (flecha apuntando hacia arriba encima de la tecla Ctrl).\n",
    "\n",
    "#### Celdas de código que tienes que editar antes de ejecutarla\n",
    "\n",
    "En algunos casos, antes de ejecutar una celda de código tienes que asignar un contenido específico a una variable. Tenemos estos casos:\n",
    "\n",
    "* Celda con la expresión: "
   ]
  },
  {
   "cell_type": "raw",
   "id": "c412f48c-871c-4510-9dd9-e197690d34a3",
   "metadata": {},
   "source": [
    "fdata = './data/data_template.xlsx'"
   ]
  },
  {
   "cell_type": "markdown",
   "id": "51603ef8-dfa2-4eb0-89c7-d188e6d67cec",
   "metadata": {},
   "source": [
    "Lo que significa que asignamos a la variable fdata un contenido, en este caso el directorio y el nombre del fichero de datos entre comillas simples' ' (también puede valer comillas dobles \" \"). En el ejemplo que acompaña:\n",
    "* './data' es el nombre del directorio.\n",
    "* 'data_template.xlsx' es el nombre del fichero de datos.\n",
    "\n",
    "En Windows y en el entorno Jupyter Lab la separación entre cada directorio y el fichero de datos se puede señalar de 3 maneras diferenes:\n",
    "* con el separador '/', por ejemplo './data/data_template.xlsx'  \n",
    "* Con el separador '\\', que requiere escribir a la izquierda de la cadena de texto la letra r, por ejemplo r'.\\data\\data_template.xlsx'\n",
    "* Con doble separador '&bsol;&bsol;&bsol;&bsol;' pero sin la letra r, por ejemplo '.&bsol;&bsol;&bsol;&bsol;data&bsol;&bsol;&bsol;&bsol;data_template.xlsx'"
   ]
  },
  {
   "cell_type": "markdown",
   "id": "72dcf2bd-bb47-4f35-a8d2-4962c300a6c1",
   "metadata": {},
   "source": [
    "* celda con"
   ]
  },
  {
   "cell_type": "raw",
   "id": "36d13acb-4b1d-400f-9013-e2769a08ee2e",
   "metadata": {},
   "source": [
    "data = pd.read_excel(fdata, sheet_name=0)"
   ]
  },
  {
   "cell_type": "markdown",
   "id": "f49e1457-3de9-4d5a-9f0a-c313a464b51e",
   "metadata": {},
   "source": [
    "tendrás que modificar el valor 0 por el adecuado en cada caso"
   ]
  },
  {
   "cell_type": "code",
   "execution_count": null,
   "id": "fed3d2bf-822f-4627-bf12-3d866b3eee30",
   "metadata": {},
   "outputs": [],
   "source": [
    "* Celda con "
   ]
  },
  {
   "cell_type": "raw",
   "id": "fff341b7-7ace-474e-a126-cce44cb0df13",
   "metadata": {},
   "source": [
    "fo = './data/cbe_data_template.xlsx'"
   ]
  },
  {
   "cell_type": "markdown",
   "id": "fa984f5b-c1e7-4ad1-b054-098ddd484172",
   "metadata": {},
   "source": [
    "tendrás que escribir el directorio ya existente de tu ordenador donde quieres guardar el fichero 'cbe_data_template.xlsx' o como prefieras nombrarlo\n",
    "\n",
    "* Celda con:"
   ]
  },
  {
   "cell_type": "raw",
   "id": "6540f85b-55a2-462f-9b79-6d1f35502be6",
   "metadata": {},
   "source": [
    "mask = (np.abs(er_cb['cbe']) <= 10)"
   ]
  },
  {
   "cell_type": "markdown",
   "id": "a1fa2f5a-c98b-48f5-a3e1-7f7cfaba864c",
   "metadata": {},
   "source": [
    "Si quieres modificar el valor del error de balance máximo permitido tendrás que modificar el 10"
   ]
  },
  {
   "cell_type": "markdown",
   "id": "80180000-8255-4cb9-b895-4e62828d07ef",
   "metadata": {},
   "source": [
    "Un caso similar ocurre en la celda de contenido"
   ]
  },
  {
   "cell_type": "raw",
   "id": "9e26efbc-f4d8-4617-a74e-0371228cf168",
   "metadata": {},
   "source": [
    "mask = (er_cb['cbe'] >= -10) & (er_cb['cbe'] <= 10)"
   ]
  },
  {
   "cell_type": "markdown",
   "id": "b04ff464-769b-4491-8269-8a8111f7f1ec",
   "metadata": {},
   "source": [
    "* Celda con"
   ]
  },
  {
   "cell_type": "raw",
   "id": "a7b956a0-cba5-47b9-beb7-504f4aa41fb2",
   "metadata": {},
   "source": [
    "fig_Piper = './out/piper2_data_template.png'"
   ]
  },
  {
   "cell_type": "markdown",
   "id": "64b5172e-f995-4183-8cff-f274a64e05d8",
   "metadata": {},
   "source": [
    "en la que tienes que modificar el valor './out/piper2_data_template.png' con un directorio en tu ordenador donde se va a grabar el fichero de imagen 'piper2_data_template.png'"
   ]
  },
  {
   "cell_type": "raw",
   "id": "e043b60f-e1c8-4978-9478-79c67edbcfad",
   "metadata": {},
   "source": [
    "Similar con las asignaciones a fig_Scoeller y fig_Stiff"
   ]
  },
  {
   "cell_type": "markdown",
   "id": "d236aa94-2c7e-48e4-9c15-16d0c9a34c04",
   "metadata": {},
   "source": [
    "### Desde la línea de comandos\n",
    "Lo primero que hay que hacer es abrir el fichero 'GWChemPlot_inputs.json' coun un editor de texto plano como NotePad, NotePad++ o similar. El contenido de este fichero es el siguiente:"
   ]
  },
  {
   "cell_type": "raw",
   "id": "b36b06d5-780d-4245-9e51-f0c45653667f",
   "metadata": {},
   "source": [
    "{\n",
    "\t\"data_path\" : \"./data/data_template.csv\",\n",
    "\t\"sheet_number\" : 0,\n",
    "\t\"max_cbe\" : 10,\n",
    "\t\"dir_output\" : \"./out\",\n",
    "\t\"fo_cbe\" : \"cbe.xlsx\",\n",
    "\t\"fo_ion_dominant_classification\" : \"ion_dominant_classification.xlsx\",\n",
    "\t\"fig_Piper\" : \"piper.png\",\n",
    "\t\"fig_Schoeller\" : \"schoeller.png\",\n",
    "\t\"fig_Stiff\" : \"stiff.png\"\n",
    "}"
   ]
  },
  {
   "cell_type": "markdown",
   "id": "f59c3418-4905-4986-a7dd-03946ad929d1",
   "metadata": {},
   "source": [
    "Tienes que ir modificando las entradas de cada línea a la derecha de los dos puntos ':'\n",
    "\n",
    "El significado de las variables (nombre a la izquierda del símbolo de dos puntos ':') es:\n",
    "\n",
    "* data_path. Directorio y nombre del fichero de datos (extensión csv o xlsx)\n",
    "* sheet_number. Si el fichero de datos es de tipo xlsx y el número de Hoja es diferente a la primera (0), número de Hoja\n",
    "* max_cbe. Valor máximo admitido del error de balance iónico\n",
    "* dir_output. Directorio donde se grabarán los ficheros de resultados\n",
    "* fo_cbe. Nombre del fichero con los errores de balance iónico de los análisis en el fichero de datos\n",
    "* fo_ion_dominant_classification. Nombre del fichero con la clasificación de ión dominante y extensión xlsx\n",
    "* fig_Piper. Nombre del fichero con el diagrama de Piper\n",
    "* fig_Schoeller. Nombre del fichero con el diagrama de Schoeller\n",
    "* fig_Stiff. Nombre del fichero para los diagramas de Stiff"
   ]
  },
  {
   "cell_type": "markdown",
   "id": "f6bd90a4-6a28-483d-8dfa-59f6f6f9c1a8",
   "metadata": {},
   "source": [
    "Una vez tienes el fichero listo, salva y ciérralo.\n",
    "\n",
    "A continuación abre un terminal, por ejemplo desde la barra de tareas de Jupyter Lab pulsa File -> Terminal\n",
    "\n",
    "En el terminal escribe:"
   ]
  },
  {
   "cell_type": "raw",
   "id": "f42f675e-12a7-4296-9806-ab80ec6929c6",
   "metadata": {},
   "source": [
    "python main.py"
   ]
  },
  {
   "cell_type": "raw",
   "id": "5d295cdb-a938-49bc-9bb2-f3f51fddc47a",
   "metadata": {},
   "source": [
    "Te irán apareciendo preguntas sobre las opciones de ejecución para responder y (sí) o n "
   ]
  },
  {
   "cell_type": "code",
   "execution_count": null,
   "id": "4d631506-3229-439b-8fdf-a7a84ef602e2",
   "metadata": {},
   "outputs": [],
   "source": []
  }
 ],
 "metadata": {
  "kernelspec": {
   "display_name": "Python 3 (ipykernel)",
   "language": "python",
   "name": "python3"
  },
  "language_info": {
   "codemirror_mode": {
    "name": "ipython",
    "version": 3
   },
   "file_extension": ".py",
   "mimetype": "text/x-python",
   "name": "python",
   "nbconvert_exporter": "python",
   "pygments_lexer": "ipython3",
   "version": "3.10.11"
  }
 },
 "nbformat": 4,
 "nbformat_minor": 5
}
